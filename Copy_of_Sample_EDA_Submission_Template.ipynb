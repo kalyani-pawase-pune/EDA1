{
  "nbformat": 4,
  "nbformat_minor": 0,
  "metadata": {
    "colab": {
      "private_outputs": true,
      "provenance": [],
      "collapsed_sections": [
        "w6K7xa23Elo4",
        "PH-0ReGfmX4f",
        "mDgbUHAGgjLW",
        "jj7wYXLtphqO",
        "gCFgpxoyphqP",
        "OVtJsKN_phqQ",
        "lssrdh5qphqQ",
        "1M8mcRywphqQ",
        "tgIPom80phqQ",
        "JMzcOPDDphqR",
        "X_VqEhTip1ck",
        "8zGJKyg5p1ck",
        "PVzmfK_Ep1ck",
        "ylSl6qgtp1ck",
        "ZWILFDl5p1ck",
        "M7G43BXep1ck",
        "E6MkPsBcp1cl",
        "2cELzS2fp1cl",
        "3MPXvC8up1cl",
        "UV0SzAkaZNRQ",
        "YPEH6qLeZNRQ",
        "EXh0U9oCveiU",
        "22aHeOlLveiV",
        "gIfDvo9L0UH2"
      ],
      "cell_execution_strategy": "setup",
      "include_colab_link": true
    },
    "kernelspec": {
      "name": "python3",
      "display_name": "Python 3"
    },
    "language_info": {
      "name": "python"
    }
  },
  "cells": [
    {
      "cell_type": "markdown",
      "metadata": {
        "id": "view-in-github",
        "colab_type": "text"
      },
      "source": [
        "<a href=\"https://colab.research.google.com/github/kalyani-pawase-pune/EDA1/blob/main/Copy_of_Sample_EDA_Submission_Template.ipynb\" target=\"_parent\"><img src=\"https://colab.research.google.com/assets/colab-badge.svg\" alt=\"Open In Colab\"/></a>"
      ]
    },
    {
      "cell_type": "markdown",
      "source": [
        "# **Project Name**    -\n",
        "\n"
      ],
      "metadata": {
        "id": "vncDsAP0Gaoa"
      }
    },
    {
      "cell_type": "markdown",
      "source": [
        "##### **Project Type**    - EDA/Regression/Classification/Unsupervised\n",
        "##### **Contribution**    - Individual"
      ],
      "metadata": {
        "id": "beRrZCGUAJYm"
      }
    },
    {
      "cell_type": "markdown",
      "source": [
        "# **Project Summary -**"
      ],
      "metadata": {
        "id": "FJNUwmbgGyua"
      }
    },
    {
      "cell_type": "markdown",
      "source": [
        "The project contains the real world data record of hotel bookings of a city and a resort hotel containing details like bookings, cancellations, guest details etc. from 2015 to 2017. In this project we are going to analyze Hotel Booking Data in order to find out valuable insights and give suggestions to increase revenue of hotels.\n",
        "\n",
        "Programming Language : Python\n",
        "\n",
        "Libraries used : Pandas, Numpy, Matplotlib, Seaborn\n",
        "\n",
        "NoteBook : Google Colab\n",
        "\n",
        "\n",
        "Objective\n",
        "We are provided with a hotel bookings dataset.\n",
        "\n",
        "The main purpose of this study is to perform EDA on the given dataset and draw useful conclusions about the trends in hotel bookings and how factors that control hotel bookings influence each other.\n",
        "\n",
        "Dataset\n",
        "We are given a hotel bookings dataset. This dataset contains booking information for a city hotel and a resort hotel. It contains the following features.\n",
        "\n",
        "- hotel: Name of hotel ( City or Resort)\n",
        "- is_canceled: Whether the booking is canceled or not (0 for no canceled and 1 for canceled)\n",
        "- lead_time: time (in days) between booking transaction and actual arrival.\n",
        "- arrival_date_year: Year of arrival\n",
        "- arrival_date_month: month of arrival\n",
        "- arrival_date_week_number: week number of arrival date.\n",
        "- arrival_date_day_of_month: Day of month of arrival date\n",
        "- stays_in_weekend_nights: No. of weekend nights spent in a hotel\n",
        "- stays_in_week_nights: No. of weeknights spent in a hotel\n",
        "- adults: No. of adults in single booking record.\n",
        "- children: No. of children in single booking record.\n",
        "- babies: No. of babies in single booking record.\n",
        "- meal: Type of meal chosen\n",
        "- country: Country of origin of customers (as mentioned by them)\n",
        "- market_segment: What segment via booking was made and for what purpose.\n",
        "- distribution_channel: Via which medium booking was made.\n",
        "- is_repeated_guest: Whether the customer has made any booking before(0 for No and 1 for Yes)\n",
        "- previous_cancellations: No. of previous canceled bookings.\n",
        "- previous_bookings_not_canceled: No. of previous non-canceled bookings.\n",
        "- reserved_room_type: Room type reserved by a customer.\n",
        "- assigned_room_type: Room type assigned to the customer.\n",
        "- booking_changes: No. of booking changes done by customers\n",
        "- deposit_type: Type of deposit at the time of making a booking (No deposit/ Refundable/ No refund)\n",
        "- agent: Id of agent for booking\n",
        "- company: Id of the company making a booking\n",
        "- days_in_waiting_list: No. of days on waiting list.\n",
        "- customer_type: Type of customer(Transient, Group, etc.)\n",
        "- adr: Average Daily rate.\n",
        "- required_car_parking_spaces: No. of car parking asked in booking\n",
        "- total_of_special_requests: total no. of special request.\n",
        "- reservation_status: Whether a customer has checked out or canceled,or not showed\n",
        "- reservation_status_date: Date of making reservation status.\n",
        "Total number of rows in data: 119391\n",
        "Total number of columns: 32\n",
        "\n",
        "Mainly performed using Matplotlib and Seaborn library and the following graph and plots had been used:\n",
        "\n",
        "Bar Plot.\n",
        "\n",
        "Pie Chart.\n",
        "\n",
        "Line Plot.\n",
        "\n",
        "Heatmap.\n"
      ],
      "metadata": {
        "id": "F6v_1wHtG2nS"
      }
    },
    {
      "cell_type": "markdown",
      "source": [
        "# **GitHub Link -**"
      ],
      "metadata": {
        "id": "w6K7xa23Elo4"
      }
    },
    {
      "cell_type": "markdown",
      "source": [
        "Provide your GitHub Link here."
      ],
      "metadata": {
        "id": "h1o69JH3Eqqn"
      }
    },
    {
      "cell_type": "markdown",
      "source": [
        "# **Problem Statement**\n"
      ],
      "metadata": {
        "id": "yQaldy8SH6Dl"
      }
    },
    {
      "cell_type": "markdown",
      "source": [
        "**Write Problem Statement Here.**"
      ],
      "metadata": {
        "id": "DpeJGUA3kjGy"
      }
    },
    {
      "cell_type": "markdown",
      "source": [
        "#### **Define Your Business Objective?**"
      ],
      "metadata": {
        "id": "PH-0ReGfmX4f"
      }
    },
    {
      "cell_type": "markdown",
      "source": [
        "Business Objectives for the Hotel\n",
        "\n",
        "1. Increase Occupancy Rates:\n",
        "\n",
        "Objective: Achieve an occupancy rate of at least 75% throughout the year, with targeted promotions to boost bookings during off-peak seasons.\n",
        "\n",
        "\n",
        "\n",
        "2. Maximize Revenue per Available Room (RevPAR):\n",
        "\n",
        "Objective: Increase RevPAR by 15% over the next 12 months by optimizing pricing strategies, upselling services, and improving revenue management practices.\n",
        "\n",
        "\n",
        "\n",
        "3. Enhance Guest Satisfaction:\n",
        "\n",
        "Objective: Achieve an average guest satisfaction rating of 4.5 out of 5 across online review platforms within the next year by improving service quality, addressing feedback, and personalizing guest experiences.\n",
        "\n",
        "\n",
        "\n",
        "4. Optimize Operational Efficiency:\n",
        "\n",
        "Objective: Reduce operational costs by 10% within 12 months through better demand forecasting, staff scheduling, and inventory management practices.\n",
        "\n",
        "\n",
        "\n",
        "5. Increase Direct Bookings:\n",
        "\n",
        "Objective: Boost the percentage of direct bookings to at least 40% of total reservations within one year by enhancing the hotel’s website, offering direct booking incentives, and engaging in targeted marketing campaigns.\n",
        "\n",
        "\n",
        "\n",
        "\n",
        "By pursuing these objectives, the hotel aims to improve profitability, enhance the guest experience, and establish a strong competitive position in the market.\n"
      ],
      "metadata": {
        "id": "PhDvGCAqmjP1"
      }
    },
    {
      "cell_type": "markdown",
      "source": [
        "# **General Guidelines** : -  "
      ],
      "metadata": {
        "id": "mDgbUHAGgjLW"
      }
    },
    {
      "cell_type": "markdown",
      "source": [
        "1.   Well-structured, formatted, and commented code is required.\n",
        "2.   Exception Handling, Production Grade Code & Deployment Ready Code will be a plus. Those students will be awarded some additional credits.\n",
        "     \n",
        "     The additional credits will have advantages over other students during Star Student selection.\n",
        "       \n",
        "             [ Note: - Deployment Ready Code is defined as, the whole .ipynb notebook should be executable in one go\n",
        "                       without a single error logged. ]\n",
        "\n",
        "3.   Each and every logic should have proper comments.\n",
        "4. You may add as many number of charts you want. Make Sure for each and every chart the following format should be answered.\n",
        "        \n",
        "\n",
        "```\n",
        "# Chart visualization code\n",
        "```\n",
        "            \n",
        "\n",
        "*   Why did you pick the specific chart?\n",
        "*   What is/are the insight(s) found from the chart?\n",
        "* Will the gained insights help creating a positive business impact?\n",
        "Are there any insights that lead to negative growth? Justify with specific reason.\n",
        "\n",
        "5. You have to create at least 20 logical & meaningful charts having important insights.\n",
        "\n",
        "\n",
        "[ Hints : - Do the Vizualization in  a structured way while following \"UBM\" Rule.\n",
        "\n",
        "U - Univariate Analysis,\n",
        "\n",
        "B - Bivariate Analysis (Numerical - Categorical, Numerical - Numerical, Categorical - Categorical)\n",
        "\n",
        "M - Multivariate Analysis\n",
        " ]\n",
        "\n",
        "\n",
        "\n"
      ],
      "metadata": {
        "id": "ZrxVaUj-hHfC"
      }
    },
    {
      "cell_type": "markdown",
      "source": [
        "# ***Let's Begin !***"
      ],
      "metadata": {
        "id": "O_i_v8NEhb9l"
      }
    },
    {
      "cell_type": "markdown",
      "source": [
        "## ***1. Know Your Data***"
      ],
      "metadata": {
        "id": "HhfV-JJviCcP"
      }
    },
    {
      "cell_type": "markdown",
      "source": [
        "### Import Libraries"
      ],
      "metadata": {
        "id": "Y3lxredqlCYt"
      }
    },
    {
      "cell_type": "code",
      "source": [
        "# Import Libraries\n",
        "!pip install openpyxl\n",
        "import numpy as np\n",
        "import pandas as pd\n",
        "import seaborn as sns\n",
        "import matplotlib.pyplot as plt\n",
        "\n",
        "from matplotlib import rcParams\n",
        "\n",
        "\n",
        "import warnings\n",
        "warnings.filterwarnings('ignore')"
      ],
      "metadata": {
        "id": "M8Vqi-pPk-HR"
      },
      "execution_count": null,
      "outputs": []
    },
    {
      "cell_type": "markdown",
      "source": [
        "### Dataset Loading"
      ],
      "metadata": {
        "id": "3RnN4peoiCZX"
      }
    },
    {
      "cell_type": "code",
      "source": [
        "# Load Dataset\n",
        "path='/content/drive/MyDrive/Hotel Bookings1.xlsx'\n",
        "df=pd.read_excel\n"
      ],
      "metadata": {
        "id": "4CkvbW_SlZ_R"
      },
      "execution_count": null,
      "outputs": []
    },
    {
      "cell_type": "code",
      "source": [
        "from google.colab import drive\n",
        "drive.mount('/content/drive')"
      ],
      "metadata": {
        "id": "VOAK0ZDyqF_E"
      },
      "execution_count": null,
      "outputs": []
    },
    {
      "cell_type": "markdown",
      "source": [
        "### Dataset First View"
      ],
      "metadata": {
        "id": "x71ZqKXriCWQ"
      }
    },
    {
      "cell_type": "code",
      "source": [
        "# Dataset First Look\n",
        "df = pd.read_excel(path)\n",
        "df.head()"
      ],
      "metadata": {
        "id": "LWNFOSvLl09H"
      },
      "execution_count": null,
      "outputs": []
    },
    {
      "cell_type": "markdown",
      "source": [
        "### Dataset Rows & Columns count"
      ],
      "metadata": {
        "id": "7hBIi_osiCS2"
      }
    },
    {
      "cell_type": "code",
      "source": [
        "# Dataset Rows & Columns count\n",
        "df.shape"
      ],
      "metadata": {
        "id": "Kllu7SJgmLij"
      },
      "execution_count": null,
      "outputs": []
    },
    {
      "cell_type": "markdown",
      "source": [
        "### Dataset Information"
      ],
      "metadata": {
        "id": "JlHwYmJAmNHm"
      }
    },
    {
      "cell_type": "code",
      "source": [
        "# Dataset Info\n",
        "df.info()"
      ],
      "metadata": {
        "id": "e9hRXRi6meOf"
      },
      "execution_count": null,
      "outputs": []
    },
    {
      "cell_type": "markdown",
      "source": [
        "#### Duplicate Values"
      ],
      "metadata": {
        "id": "35m5QtbWiB9F"
      }
    },
    {
      "cell_type": "code",
      "source": [
        "# Dataset Duplicate Value Count\n",
        "len(df[df.duplicated()])"
      ],
      "metadata": {
        "id": "1sLdpKYkmox0"
      },
      "execution_count": null,
      "outputs": []
    },
    {
      "cell_type": "markdown",
      "source": [
        "#### Missing Values/Null Values"
      ],
      "metadata": {
        "id": "PoPl-ycgm1ru"
      }
    },
    {
      "cell_type": "code",
      "source": [
        "# Missing Values/Null Values Count\n",
        "print(df.isnull().sum())"
      ],
      "metadata": {
        "id": "GgHWkxvamxVg"
      },
      "execution_count": null,
      "outputs": []
    },
    {
      "cell_type": "code",
      "source": [
        "\n"
      ],
      "metadata": {
        "id": "5Jt101xhRmpR"
      },
      "execution_count": null,
      "outputs": []
    },
    {
      "cell_type": "code",
      "source": [
        "# Visualizing the missing values"
      ],
      "metadata": {
        "id": "3q5wnI3om9sJ"
      },
      "execution_count": null,
      "outputs": []
    },
    {
      "cell_type": "code",
      "source": [
        "sns.heatmap(df.isnull(), cbar=False)"
      ],
      "metadata": {
        "id": "tP6FdriRup2U"
      },
      "execution_count": null,
      "outputs": []
    },
    {
      "cell_type": "markdown",
      "source": [
        "### What did you know about your dataset?"
      ],
      "metadata": {
        "id": "H0kj-8xxnORC"
      }
    },
    {
      "cell_type": "markdown",
      "source": [
        "\n",
        "\n",
        "```\n",
        "`# This is formatted as code`\n",
        "```\n",
        "\n",
        "Answer Here"
      ],
      "metadata": {
        "id": "gfoNAAC-nUe_"
      }
    },
    {
      "cell_type": "markdown",
      "source": [
        "## ***2. Understanding Your Variables***"
      ],
      "metadata": {
        "id": "nA9Y7ga8ng1Z"
      }
    },
    {
      "cell_type": "code",
      "source": [
        "# Dataset Columns"
      ],
      "metadata": {
        "id": "j7xfkqrt5Ag5"
      },
      "execution_count": null,
      "outputs": []
    },
    {
      "cell_type": "code",
      "source": [
        "df.columns\n"
      ],
      "metadata": {
        "id": "yscX8fsuvmuT"
      },
      "execution_count": null,
      "outputs": []
    },
    {
      "cell_type": "code",
      "source": [
        "# Dataset Describe"
      ],
      "metadata": {
        "id": "DnOaZdaE5Q5t"
      },
      "execution_count": null,
      "outputs": []
    },
    {
      "cell_type": "code",
      "source": [
        "# prompt: dataset.describe(include='all')\n",
        "\n",
        "df.describe(include='all')\n"
      ],
      "metadata": {
        "id": "KP-YHrZavuOo"
      },
      "execution_count": null,
      "outputs": []
    },
    {
      "cell_type": "markdown",
      "source": [
        "### Variables Description"
      ],
      "metadata": {
        "id": "PBTbrJXOngz2"
      }
    },
    {
      "cell_type": "markdown",
      "source": [
        "1.hotel: The type of the hotel, city hotel and resort hotel\n",
        "\n",
        "2.is_canceled: Indicates the reservation is canceled (1) or not (0)\n",
        "\n",
        "3.lead_time: Number of days that elapsed between the entering date of the booking into the PMS and the arrival date\n",
        "\n",
        "4.arrival_date_year: Information of the arrival year\n",
        "\n",
        "5.arrival_date_month: Information of the arrival month\n",
        "\n",
        "6.arrival_date_week_number: Information of the arrival week\n",
        "\n",
        "7.arrival_date_day_of_month: Information of the arrival date\n",
        "\n",
        "8.stay in_weekend_nights: Number of weekend nights (Saturday or Sunday) the guest stayed or booked to stay at the hotel\n",
        "\n",
        "9.stay in_weekdays_nights: Number of week nights (Monday to Friday) the guest stayed or booked to stay at the hotel\n",
        "\n",
        "10.adults/children/babies: Number of adults/children/babies\n",
        "\n",
        "11.meal: Type of meal booked. Categories:\n",
        "\n",
        "I.No Meal\n",
        "\n",
        "II.Breakfast\n",
        "\n",
        "III.Dinner\n",
        "\n",
        "IV.Full board (breakfast, lunch and dinner)\n",
        "\n",
        "V.Undefined\n",
        "\n",
        "11.city: City/place of origin.\n",
        "\n",
        "12.market_segment: Market segment designation. The term “TA” means “Travel Agents” and “TO” means “Tour Operators”\n",
        "\n",
        "13.distribution_channel: Booking distribution channel. The term “TA” means “Travel Agents” and “TO” means “Tour Operators”\n",
        "\n",
        "14.s_repeated_guest: Value indicating if the booking name was from a repeated guest (1) or not (0)\n",
        "\n",
        "15.previous_cancellations: Number of previous bookings that were cancelled by the customer\n",
        "\n",
        "16.previous_bookings_not_canceled: Number of previous bookings not cancelled by the customer\n",
        "\n",
        "17.booking_changes: Number of changes/amendments made to the booking from the moment the booking was entered on the PMS until the moment of check-in or cancellation\n",
        "\n",
        "18.deposit_type: Indication on if the customer made a deposit to guarantee the booking. Categories:\n",
        "\n",
        "I.No Deposit\n",
        "\n",
        "II.Non Refund\n",
        "\n",
        "III.Refundable\n",
        "\n",
        "19.agent: ID of the travel agency that made the booking\n",
        "\n",
        "20.company: ID of the company that made the booking\n",
        "\n",
        "21.days_in_waiting_list: Number of days the booking was in the waiting list before it was confirmed to the customer\n",
        "\n",
        "22.customer_type: Type of booking. Categories:\n",
        "\n",
        "I.Personal\n",
        "\n",
        "II.Family\n",
        "\n",
        "III.Contract\n",
        "\n",
        "IV.Business\n",
        "\n",
        "23.adr: Average Daily Rate\n",
        "\n",
        "24.required_car_parking_spaces: Number of car parking spaces required by the customer\n",
        "\n",
        "25.total_of_special_requests: Number of special requests made by the customer\n",
        "\n",
        "26.reservation_status: Reservation last status. Categories:\n",
        "\n",
        "I.Check-Out\n",
        "\n",
        "II.Canceled\n",
        "\n",
        "III.No-Show\n",
        "\n",
        "\n"
      ],
      "metadata": {
        "id": "aJV4KIxSnxay"
      }
    },
    {
      "cell_type": "markdown",
      "source": [
        "### Check Unique Values for each variable."
      ],
      "metadata": {
        "id": "u3PMJOP6ngxN"
      }
    },
    {
      "cell_type": "code",
      "source": [
        "# Check Unique Values for each variable."
      ],
      "metadata": {
        "id": "zms12Yq5n-jE"
      },
      "execution_count": null,
      "outputs": []
    },
    {
      "cell_type": "code",
      "source": [
        "for i in df.columns.tolist():\n",
        "  print(\"No. of unique values in \",i,\"is\",df[i].nunique(),\".\")"
      ],
      "metadata": {
        "id": "IB8mvyOtR7aG"
      },
      "execution_count": null,
      "outputs": []
    },
    {
      "cell_type": "markdown",
      "source": [
        "## 3. ***Data Wrangling***"
      ],
      "metadata": {
        "id": "dauF4eBmngu3"
      }
    },
    {
      "cell_type": "markdown",
      "source": [
        "### Data Wrangling Code"
      ],
      "metadata": {
        "id": "bKJF3rekwFvQ"
      }
    },
    {
      "cell_type": "code",
      "source": [
        "# Write your code to make your dataset analysis ready.\n",
        "# # Create a copy of the current dataset and assigning to df\n",
        "#df = dataset.copy()\n",
        "# # Checking Shape of True Value\n",
        "#print(\"No. of customers hotel : -\", len(df[df['hotel'] == True]))\n",
        "# # Assigning hotel customers dat\n",
        "\n",
        "# Assigning hotel customers data to variable df_churn\n",
        "df_hotel = df[(df['hotel'] == True)]"
      ],
      "metadata": {
        "id": "wk-9a2fpoLcV"
      },
      "execution_count": null,
      "outputs": []
    },
    {
      "cell_type": "code",
      "source": [
        "# hotel data groupby lead_time Code Wise\n",
        "\n",
        "# Assuming 'df' is your DataFrame and 'leead_time' is a typo and should be 'lead_time'\n",
        "pd.DataFrame(df.groupby('lead_time')['hotel'].value_counts().reset_index(name=\"Count\"))"
      ],
      "metadata": {
        "id": "7XTQaRbuw--r"
      },
      "execution_count": null,
      "outputs": []
    },
    {
      "cell_type": "code",
      "source": [
        " # Function to get all lead_time code mean & median while passing lad_time code and dataframe.\n",
        "def get_mean_median(df, leadtime):\n",
        "    '''\n",
        "    This function returns the mean and median of the whole dataset for a particular lead_time.\n",
        "    '''\n",
        "    try:\n",
        "        # Use .loc for label-based indexing to avoid SettingWithCopyWarning\n",
        "        temp_df = df.loc[(df['hotel'] == True) & (df['lead_time'] == leadtime)]\n",
        "        if temp_df.empty:\n",
        "            print(f\"No data found for lead_time: {leadtime}\")\n",
        "            return pd.DataFrame()\n",
        "\n",
        "        mean_value = temp_df.describe().iloc[1]\n",
        "        median_value = temp_df.describe().iloc[5]\n",
        "        result_df = pd.concat([mean_value, median_value], axis=1).rename(columns={0: \"mean\", 1: \"median\"}).fillna(\"-\")\n",
        "\n",
        "        return result_df\n",
        "    except KeyError as e:\n",
        "        print(f\"Error: Column '{e}' not found in the DataFrame.\")\n",
        "        return pd.DataFrame()\n",
        "    except Exception as e:\n",
        "        print(f\"An unexpected error occurred: {e}\")\n",
        "        return pd.DataFrame()\n"
      ],
      "metadata": {
        "id": "i5eOWCGRaCNK"
      },
      "execution_count": null,
      "outputs": []
    },
    {
      "cell_type": "code",
      "source": [
        "# Getting Mean Median for lead_time code 7\n",
        "get_mean_median(df, 7)"
      ],
      "metadata": {
        "id": "KXCY4CjGchVp"
      },
      "execution_count": null,
      "outputs": []
    },
    {
      "cell_type": "code",
      "source": [
        "# Getting Mean Median for lead_time code 127\n",
        "get_mean_median(df, 127)"
      ],
      "metadata": {
        "id": "LIeIYrTjetiL"
      },
      "execution_count": null,
      "outputs": []
    },
    {
      "cell_type": "code",
      "source": [
        "# Getting Mean Median for lead_time code 14\n",
        "get_mean_median(df, 14)"
      ],
      "metadata": {
        "id": "NgCyfQ2_ezL5"
      },
      "execution_count": null,
      "outputs": []
    },
    {
      "cell_type": "code",
      "source": [
        "# Getting Unique arrival_date_year\n",
        "print(df['arrival_date_year'].unique())\n",
        "print(\" \")\n",
        "# Getting Unique arrival_date_year Count\n",
        "print(\"Unique arrival_date_year Count is \",df['arrival_date_year'].nunique(),\".\")"
      ],
      "metadata": {
        "id": "BgA_VzoDfD6r"
      },
      "execution_count": null,
      "outputs": []
    },
    {
      "cell_type": "code",
      "source": [
        "# Getting Mean Median for arrival_date_year code 2015\n",
        "get_mean_median(df, 2015)"
      ],
      "metadata": {
        "id": "zt1HJe55gmxa"
      },
      "execution_count": null,
      "outputs": []
    },
    {
      "cell_type": "code",
      "source": [
        "# Getting Unique arrival_date_week_number\n",
        "print(df['arrival_date_week_number'].unique())\n",
        "print(\" \")\n",
        "# Getting Unique arrival_date_week_number Count\n",
        "print(\"Unique arrival_date_week_number Count is \",df['arrival_date_week_number'].nunique(),\".\")"
      ],
      "metadata": {
        "id": "bgG_a959fWgy"
      },
      "execution_count": null,
      "outputs": []
    },
    {
      "cell_type": "code",
      "source": [
        "# Getting Unique arrival_date_day_of_month\n",
        "\n",
        "print(df['arrival_date_day_of_month'].unique())\n",
        "print(\" \")\n",
        "# Getting Unique arrival_date_day_of_month Count\n",
        "print(\"Unique arrival_date_day_of_month Count is \",df['arrival_date_day_of_month'].nunique(),\".\")"
      ],
      "metadata": {
        "id": "u6Sp8ZOMfmsc"
      },
      "execution_count": null,
      "outputs": []
    },
    {
      "cell_type": "code",
      "source": [
        "# Getting Unique stays_in_week_nights\n",
        "print(df['stays_in_week_nights'].unique())\n",
        "print(\" \")\n",
        "# Getting Unique stays_in_week_nights Count\n",
        "print(\"Unique stays_in_week_nights Count is \",df['stays_in_week_nights'].nunique(),\".\")"
      ],
      "metadata": {
        "id": "6phi0KhYf_oQ"
      },
      "execution_count": null,
      "outputs": []
    },
    {
      "cell_type": "code",
      "source": [
        "# Getting Unique arrival_date_month\n",
        "print(df['arrival_date_month'].unique())\n",
        "print(\" \")\n",
        "# Getting Unique arrival_date_month Count\n",
        "print(\"Unique arrival_date_month Count is \",df['arrival_date_month'].nunique(),\".\")"
      ],
      "metadata": {
        "id": "bDnYdjgqgbyU"
      },
      "execution_count": null,
      "outputs": []
    },
    {
      "cell_type": "code",
      "source": [
        "# display all information of  guest\n",
        "\n",
        "try:\n",
        "  # Display all information for guests (assuming 'guest' is a relevant column in your dataframe).\n",
        "  # Replace 'guest' with the appropriate column name if needed.\n",
        "  print(df)\n",
        "except KeyError as e:\n",
        "  print(f\"Error: Column '{e}' not found in the DataFrame.\")\n",
        "except Exception as e:\n",
        "  print(f\"An unexpected error occurred: {e}\")"
      ],
      "metadata": {
        "id": "7C7wKeANgbVI"
      },
      "execution_count": null,
      "outputs": []
    },
    {
      "cell_type": "code",
      "source": [
        "# Check the null values\n",
        "df.isna().sum()"
      ],
      "metadata": {
        "id": "svTDak8Z0MYs"
      },
      "execution_count": null,
      "outputs": []
    },
    {
      "cell_type": "code",
      "source": [
        "# diplay all neccesarry information\n",
        "\n",
        "df.describe(include='all')"
      ],
      "metadata": {
        "id": "G20ZGFt_0MN4"
      },
      "execution_count": null,
      "outputs": []
    },
    {
      "cell_type": "markdown",
      "source": [
        "### What all manipulations have you done and insights you found?"
      ],
      "metadata": {
        "id": "MSa1f5Uengrz"
      }
    },
    {
      "cell_type": "markdown",
      "source": [
        "Answer Here."
      ],
      "metadata": {
        "id": "LbyXE7I1olp8"
      }
    },
    {
      "cell_type": "markdown",
      "source": [
        "## ***4. Data Vizualization, Storytelling & Experimenting with charts : Understand the relationships between variables***"
      ],
      "metadata": {
        "id": "GF8Ens_Soomf"
      }
    },
    {
      "cell_type": "markdown",
      "source": [
        "#### Chart - 1"
      ],
      "metadata": {
        "id": "0wOQAZs5pc--"
      }
    },
    {
      "cell_type": "code",
      "source": [
        "# Chart visualization code\n",
        "plt.figure(figsize=(12, 6))\n",
        "plt.pie(df['arrival_date_year'].value_counts(), labels=df['arrival_date_year'].value_counts().index, autopct='%1.1f%%', startangle=90)\n",
        "plt.title('Distribution of Arrivals by Year')\n",
        "plt.axis('equal')  # Equal aspect ratio ensures that pie is drawn as a circle.\n",
        "plt.show()"
      ],
      "metadata": {
        "id": "bkrdTUfu5K3Q"
      },
      "execution_count": null,
      "outputs": []
    },
    {
      "cell_type": "code",
      "source": [
        "# Chart visualization code"
      ],
      "metadata": {
        "id": "7v_ESjsspbW7"
      },
      "execution_count": null,
      "outputs": []
    },
    {
      "cell_type": "code",
      "source": [
        "\n"
      ],
      "metadata": {
        "id": "g2p0L-LX2YHj"
      },
      "execution_count": null,
      "outputs": []
    },
    {
      "cell_type": "markdown",
      "source": [
        "##### 1. Why did you pick the specific chart?"
      ],
      "metadata": {
        "id": "K5QZ13OEpz2H"
      }
    },
    {
      "cell_type": "markdown",
      "source": [
        "**Answer** Here.\n",
        "A pie chart expresses a part-to-whole relationship in your data. It's easy to explain the percentage comparison through area covered in a circle with different colors. Where differenet percentage comparison comes into action pie chart is used frequently. So, I used Pie chart and which helped me to get the percentage comparision of the dependant variable.\n",
        "\n"
      ],
      "metadata": {
        "id": "XESiWehPqBRc"
      }
    },
    {
      "cell_type": "markdown",
      "source": [
        "##### 2. What is/are the insight(s) found from the chart?"
      ],
      "metadata": {
        "id": "lQ7QKXXCp7Bj"
      }
    },
    {
      "cell_type": "markdown",
      "source": [
        "In this pie chart we can see the distribution arrival_date_year comes from Hotel Booking dataset.\n",
        "\n",
        "In 2015 the 18.45% customer visit the hotel.\n",
        "In 2016 the 47.5% customer visit the hotel.\n",
        "In 2016 the 34.1% customer visit the hotel."
      ],
      "metadata": {
        "id": "C_j1G7yiqdRP"
      }
    },
    {
      "cell_type": "markdown",
      "source": [
        "##### 3. Will the gained insights help creating a positive business impact?\n",
        "Are there any insights that lead to negative growth? Justify with specific reason."
      ],
      "metadata": {
        "id": "448CDAPjqfQr"
      }
    },
    {
      "cell_type": "markdown",
      "source": [
        "There is nagative growth because in the above pie diagram we can see. In year 2015 the 18.4% customers visit the hotel and 2016 the 47.5% customers visit the hotel it is a positive growth but in 2017 the 34.1% customers visit the hotel it's a negative growth."
      ],
      "metadata": {
        "id": "3cspy4FjqxJW"
      }
    },
    {
      "cell_type": "markdown",
      "source": [],
      "metadata": {
        "id": "KSlN3yHqYklG"
      }
    },
    {
      "cell_type": "code",
      "source": [
        "# Chart - 2 visualization code"
      ],
      "metadata": {
        "id": "R4YgtaqtYklH"
      },
      "execution_count": null,
      "outputs": []
    },
    {
      "cell_type": "code",
      "source": [
        "# Assuming 'df' is your DataFrame from the previous code.\n",
        "# Iterate through all numerical columns and create histograms.\n",
        "\n",
        "for col in df.select_dtypes(include=np.number):\n",
        "  plt.figure(figsize=(10, 5))\n",
        "  plt.title(f\"Histogram of {col}\")\n",
        "  sns.histplot(df[col], kde=True)\n",
        "  plt.show()"
      ],
      "metadata": {
        "id": "Xnemm4X3od8s"
      },
      "execution_count": null,
      "outputs": []
    },
    {
      "cell_type": "code",
      "source": [
        "# Display the top 10 lead times grouped by specified columns.\n",
        "top_10_lead_times = df.groupby(['arrival_date_year', 'arrival_date_week_number', 'adults'])['lead_time'] \\\n",
        "    .sum() \\\n",
        "    .reset_index() \\\n",
        "    .sort_values('lead_time', ascending=False) \\\n",
        "    .head(10)\n",
        "\n",
        "top_10_lead_times"
      ],
      "metadata": {
        "id": "Ub_Aq4wm80nv"
      },
      "execution_count": null,
      "outputs": []
    },
    {
      "cell_type": "markdown",
      "source": [
        "##### 1. Why did you pick the specific chart?"
      ],
      "metadata": {
        "id": "t6dVpIINYklI"
      }
    },
    {
      "cell_type": "markdown",
      "source": [
        "A Histogram can help to find average  and determine if the process itself needs improvement.\n",
        "\n",
        "To plot a histogram you need a continuous value and an axis starting at zero to properly display the count of values within each bin. While these counts can be zero, there won’t be negative values."
      ],
      "metadata": {
        "id": "5aaW0BYyYklI"
      }
    },
    {
      "cell_type": "markdown",
      "source": [
        "##### 2. What is/are the insight(s) found from the chart?"
      ],
      "metadata": {
        "id": "ijmpgYnKYklI"
      }
    },
    {
      "cell_type": "markdown",
      "source": [
        "Histogram of is_Canceled and Histogram of Arrival Date Year and Histogram of lead_time and Histogram of Arrival Date Week Number and Histogram of Adults and Histogram of children's and Histogram of Babiesand Histogram of Meal and Histogram of Arrival date day of monthand Histogram of stays in weekend nights and Histogram of stays in weeke nights and Histogram of repeated guest and Histogram of previous cancellation and Histogram of previous booking not cancelled and Histogram of booking changes and Histogram of agent and Histogram of company and Histogram of days in waiting list and Histogram of adr and Histogram of required car parking spaces and Histogram of total of special requests and Histogram of normalised adr and Histogram of guest and Histogram of price per person"
      ],
      "metadata": {
        "id": "PSx9atu2YklI"
      }
    },
    {
      "cell_type": "markdown",
      "source": [
        "##### 3. Will the gained insights help creating a positive business impact?\n",
        "Are there any insights that lead to negative growth? Justify with specific reason."
      ],
      "metadata": {
        "id": "-JiQyfWJYklI"
      }
    },
    {
      "cell_type": "markdown",
      "source": [
        "In this above graphs there is only display the graphs of all columns from above dataset"
      ],
      "metadata": {
        "id": "BcBbebzrYklV"
      }
    },
    {
      "cell_type": "markdown",
      "source": [
        "#### Chart - 3"
      ],
      "metadata": {
        "id": "EM7whBJCYoAo"
      }
    },
    {
      "cell_type": "code",
      "source": [
        "# Chart - 3 visualization code"
      ],
      "metadata": {
        "id": "t6GMdE67YoAp"
      },
      "execution_count": null,
      "outputs": []
    },
    {
      "cell_type": "markdown",
      "source": [],
      "metadata": {
        "id": "iUiBi6a1AUdh"
      }
    },
    {
      "cell_type": "code",
      "source": [
        "# Display the bottom 10 lead times grouped by specified columns.\n",
        "bottom_10_lead_times = df.groupby(['arrival_date_year', 'arrival_date_week_number', 'adults', 'arrival_date_month', 'stays_in_week_nights', 'children', 'babies'])['lead_time'] \\\n",
        "    .sum() \\\n",
        "    .reset_index() \\\n",
        "    .sort_values('lead_time', ascending=True) \\\n",
        "    .head(10)\n",
        "\n",
        "bottom_10_lead_times"
      ],
      "metadata": {
        "id": "c_oOmbzM_xrL"
      },
      "execution_count": null,
      "outputs": []
    },
    {
      "cell_type": "markdown",
      "source": [
        "##### 1. Why did you pick the specific chart?"
      ],
      "metadata": {
        "id": "fge-S5ZAYoAp"
      }
    },
    {
      "cell_type": "markdown",
      "source": [
        "it is easy to use and easy to understand"
      ],
      "metadata": {
        "id": "5dBItgRVYoAp"
      }
    },
    {
      "cell_type": "markdown",
      "source": [
        "##### 2. What is/are the insight(s) found from the chart?"
      ],
      "metadata": {
        "id": "85gYPyotYoAp"
      }
    },
    {
      "cell_type": "markdown",
      "source": [
        "In the above data we can find out the bottom 10 lead times grouped by specified columns."
      ],
      "metadata": {
        "id": "4jstXR6OYoAp"
      }
    },
    {
      "cell_type": "markdown",
      "source": [
        "##### 3. Will the gained insights help creating a positive business impact?\n",
        "Are there any insights that lead to negative growth? Justify with specific reason."
      ],
      "metadata": {
        "id": "RoGjAbkUYoAp"
      }
    },
    {
      "cell_type": "markdown",
      "source": [
        "No,tere is no negative lead growth.because in above we can only see the bottom 10 rows"
      ],
      "metadata": {
        "id": "zfJ8IqMcYoAp"
      }
    },
    {
      "cell_type": "markdown",
      "source": [
        "#### Chart - 4"
      ],
      "metadata": {
        "id": "4Of9eVA-YrdM"
      }
    },
    {
      "cell_type": "code",
      "source": [
        "# Chart - 4 visualization code"
      ],
      "metadata": {
        "id": "irlUoxc8YrdO"
      },
      "execution_count": null,
      "outputs": []
    },
    {
      "cell_type": "code",
      "source": [
        "#display all booking or cancelation information\n",
        "# Create a combined 'Booking/Cancellation' column\n",
        "df['Booking/Cancellation'] = df['is_canceled'].map({0: 'Booking', 1: 'Cancellation'})\n",
        "# Visualize booking and cancellation information\n",
        "plt.figure(figsize=(8, 6))\n",
        "sns.countplot(x='Booking/Cancellation', data=df)\n",
        "plt.title('Bookings vs. Cancellations')\n",
        "plt.xlabel('Booking Status')\n",
        "plt.ylabel('Count')\n",
        "plt.show()\n",
        "\n",
        "\n",
        "# Further analysis by year\n",
        "plt.figure(figsize=(10, 6))\n",
        "sns.countplot(x='arrival_date_year', hue='Booking/Cancellation', data=df)\n",
        "plt.title('Bookings vs. Cancellations per Year')\n",
        "plt.xlabel('Arrival Year')\n",
        "plt.ylabel('Count')\n",
        "plt.show()\n",
        "\n",
        "\n",
        "# Further analysis by month\n",
        "plt.figure(figsize=(12, 6))\n",
        "sns.countplot(x='arrival_date_month', hue='Booking/Cancellation', data=df, order = df['arrival_date_month'].value_counts().index)\n",
        "plt.title('Bookings vs. Cancellations per Month')\n",
        "plt.xlabel('Arrival Month')\n",
        "plt.ylabel('Count')\n",
        "plt.xticks(rotation=45)\n",
        "plt.show()"
      ],
      "metadata": {
        "id": "2emkb8HMwLzy"
      },
      "execution_count": null,
      "outputs": []
    },
    {
      "cell_type": "markdown",
      "source": [
        "##### 1. Why did you pick the specific chart?"
      ],
      "metadata": {
        "id": "iky9q4vBYrdO"
      }
    },
    {
      "cell_type": "markdown",
      "source": [
        "It easy to use and easy to understand."
      ],
      "metadata": {
        "id": "aJRCwT6DYrdO"
      }
    },
    {
      "cell_type": "markdown",
      "source": [
        "##### 2. What is/are the insight(s) found from the chart?"
      ],
      "metadata": {
        "id": "F6T5p64dYrdO"
      }
    },
    {
      "cell_type": "markdown",
      "source": [
        " In the above charts we can the all booking or cancelation information from dataset,booking and cancellation per year and per month."
      ],
      "metadata": {
        "id": "Xx8WAJvtYrdO"
      }
    },
    {
      "cell_type": "markdown",
      "source": [
        "##### 3. Will the gained insights help creating a positive business impact?\n",
        "Are there any insights that lead to negative growth? Justify with specific reason."
      ],
      "metadata": {
        "id": "y-Ehk30pYrdP"
      }
    },
    {
      "cell_type": "markdown",
      "source": [
        "No,there is no negrtive growth because the rate of booking is higher than rate of cancellation. there is minimum cancallation occurs."
      ],
      "metadata": {
        "id": "jLNxxz7MYrdP"
      }
    },
    {
      "cell_type": "markdown",
      "source": [
        "#### Chart - 5"
      ],
      "metadata": {
        "id": "bamQiAODYuh1"
      }
    },
    {
      "cell_type": "code",
      "source": [
        "# Chart - 5 visualization code"
      ],
      "metadata": {
        "id": "TIJwrbroYuh3"
      },
      "execution_count": null,
      "outputs": []
    },
    {
      "cell_type": "code",
      "source": [
        "#  display where guest come from?\n",
        "\n",
        "# Assuming 'df' is your DataFrame and the path is correct\n",
        "try:\n",
        "    # Display where guests come from (Country)\n",
        "    country_counts = df['country'].value_counts()\n",
        "    print(country_counts)\n",
        "\n",
        "\n",
        "    # Plotting a graph\n",
        "    plt.figure(figsize=(12, 6))\n",
        "    sns.countplot(x='country', data=df, order=country_counts.index[:10]) # Plot top 10 countries\n",
        "    plt.xticks(rotation=45, ha='right')  # Rotate x-axis labels for readability\n",
        "    plt.title('Top 10 Guest Countries')\n",
        "    plt.xlabel('Country')\n",
        "    plt.ylabel('Number of Guests')\n",
        "    plt.show()\n",
        "\n",
        "except FileNotFoundError:\n",
        "    print(\"Error: File not found at the specified path.\")\n",
        "except KeyError:\n",
        "    print(\"Error: 'country' column not found in the DataFrame. Please check your data.\")\n",
        "except Exception as e:\n",
        "    print(f\"An unexpected error occurred: {e}\")"
      ],
      "metadata": {
        "id": "iqaEDDDZ5cBZ"
      },
      "execution_count": null,
      "outputs": []
    },
    {
      "cell_type": "markdown",
      "source": [
        "##### 1. Why did you pick the specific chart?"
      ],
      "metadata": {
        "id": "QHF8YVU7Yuh3"
      }
    },
    {
      "cell_type": "markdown",
      "source": [
        "We can easily plot the information in the form of graph."
      ],
      "metadata": {
        "id": "dcxuIMRPYuh3"
      }
    },
    {
      "cell_type": "markdown",
      "source": [
        "##### 2. What is/are the insight(s) found from the chart?"
      ],
      "metadata": {
        "id": "GwzvFGzlYuh3"
      }
    },
    {
      "cell_type": "markdown",
      "source": [
        "In the above information and chart can display the information about where guest come from?\n",
        "It can display the guest information."
      ],
      "metadata": {
        "id": "uyqkiB8YYuh3"
      }
    },
    {
      "cell_type": "markdown",
      "source": [
        "##### 3. Will the gained insights help creating a positive business impact?\n",
        "Are there any insights that lead to negative growth? Justify with specific reason."
      ],
      "metadata": {
        "id": "qYpmQ266Yuh3"
      }
    },
    {
      "cell_type": "markdown",
      "source": [
        "No,there is information about guest,where guest come from?"
      ],
      "metadata": {
        "id": "_WtzZ_hCYuh4"
      }
    },
    {
      "cell_type": "markdown",
      "source": [
        "#### Chart - 6"
      ],
      "metadata": {
        "id": "OH-pJp9IphqM"
      }
    },
    {
      "cell_type": "code",
      "source": [
        "# Chart - 6 visualization code"
      ],
      "metadata": {
        "id": "kuRf4wtuphqN"
      },
      "execution_count": null,
      "outputs": []
    },
    {
      "cell_type": "code",
      "source": [
        "#display all information of  guest\n",
        "try:\n",
        "    # Display information grouped by all columns (may be very large)\n",
        "    grouped_data = df.groupby(df.columns.tolist()).size().reset_index(name='Count')\n",
        "    print(grouped_data)\n",
        "\n",
        "    # For better visualization, consider grouping by fewer columns\n",
        "    # Example: group by 'hotel', 'is_canceled', 'country'\n",
        "    # grouped_data_subset = df.groupby(['hotel', 'is_canceled', 'country']).size().reset_index(name='Count')\n",
        "    # print(grouped_data_subset)\n",
        "\n",
        "except KeyError as e:\n",
        "    print(f\"Error: Column '{e}' not found in the DataFrame.\")\n",
        "except Exception as e:\n",
        "    print(f\"An unexpected error occurred: {e}\")"
      ],
      "metadata": {
        "id": "f9SR9v6l57EI"
      },
      "execution_count": null,
      "outputs": []
    },
    {
      "cell_type": "code",
      "source": [
        "#  display all information of  guest\n",
        "\n",
        "try:\n",
        "    # Display information grouped by all columns (may be very large)\n",
        "    grouped_data = df.groupby(df.columns.tolist()).size().reset_index(name='Count')\n",
        "    print(grouped_data)\n",
        "\n",
        "    # Plotting a graph for a subset of columns (for better visualization)\n",
        "    # Example: group by 'hotel', 'is_canceled', 'country'\n",
        "    grouped_data_subset = df.groupby(['hotel', 'is_canceled', 'country']).size().reset_index(name='Count')\n",
        "\n",
        "    plt.figure(figsize=(12, 6))\n",
        "    sns.barplot(x='hotel', y='Count', hue='is_canceled', data=grouped_data_subset)\n",
        "    plt.title('Bookings/Cancellations by Hotel and Country')\n",
        "    plt.xlabel('Hotel Type')\n",
        "    plt.ylabel('Count')\n",
        "    plt.xticks(rotation=45)\n",
        "    plt.show()\n",
        "\n",
        "except KeyError as e:\n",
        "    print(f\"Error: Column '{e}' not found in the DataFrame.\")\n",
        "except Exception as e:\n",
        "    print(f\"An unexpected error occurred: {e}\")"
      ],
      "metadata": {
        "id": "urHRHoHF6MB1"
      },
      "execution_count": null,
      "outputs": []
    },
    {
      "cell_type": "markdown",
      "source": [
        "##### 1. Why did you pick the specific chart?"
      ],
      "metadata": {
        "id": "bbFf2-_FphqN"
      }
    },
    {
      "cell_type": "markdown",
      "source": [
        "It is easy to use and easy to understand,easy to plot information.\n"
      ],
      "metadata": {
        "id": "loh7H2nzphqN"
      }
    },
    {
      "cell_type": "markdown",
      "source": [
        "##### 2. What is/are the insight(s) found from the chart?"
      ],
      "metadata": {
        "id": "_ouA3fa0phqN"
      }
    },
    {
      "cell_type": "markdown",
      "source": [
        "There is a information about guest,where guest come from,checkout,checkin,booking and cancellation,arrival time,arrival date,month,year etc. There is a graph about booking and cancellation."
      ],
      "metadata": {
        "id": "VECbqPI7phqN"
      }
    },
    {
      "cell_type": "markdown",
      "source": [
        "##### 3. Will the gained insights help creating a positive business impact?\n",
        "Are there any insights that lead to negative growth? Justify with specific reason."
      ],
      "metadata": {
        "id": "Seke61FWphqN"
      }
    },
    {
      "cell_type": "markdown",
      "source": [
        "No,there is information about guest,and graph of booking and cancellation."
      ],
      "metadata": {
        "id": "DW4_bGpfphqN"
      }
    },
    {
      "cell_type": "markdown",
      "source": [
        "#### Chart - 7"
      ],
      "metadata": {
        "id": "PIIx-8_IphqN"
      }
    },
    {
      "cell_type": "code",
      "source": [
        "# Chart - 7 visualization code"
      ],
      "metadata": {
        "id": "lqAIGUfyphqO"
      },
      "execution_count": null,
      "outputs": []
    },
    {
      "cell_type": "code",
      "source": [
        "#   display Market segment analysis\n",
        "try:\n",
        "    # Display all market segment analysis (replace with specific analysis if needed)\n",
        "    market_segment_analysis = df['market_segment'].value_counts()\n",
        "    print(market_segment_analysis)\n",
        "\n",
        "    # Visualize market segment distribution\n",
        "    plt.figure(figsize=(10, 6))\n",
        "    sns.countplot(x='market_segment', data=df, order=market_segment_analysis.index)\n",
        "    plt.xticks(rotation=45, ha='right')\n",
        "    plt.title('Distribution of Market Segments')\n",
        "    plt.xlabel('Market Segment')\n",
        "    plt.ylabel('Number of Bookings')\n",
        "    plt.show()\n",
        "\n",
        "except KeyError as e:\n",
        "    print(f\"Error: Column '{e}' not found in the DataFrame. Please check your column names.\")\n",
        "except Exception as e:\n",
        "    print(f\"An unexpected error occurred: {e}\")"
      ],
      "metadata": {
        "id": "OMano5DJ6dB_"
      },
      "execution_count": null,
      "outputs": []
    },
    {
      "cell_type": "code",
      "source": [
        "# display the number of confirmed (non-cancelled) bookings by market segment and hotel\n",
        "# Filter out cancelled bookings\n",
        "confirmed_bookings = df[df['is_canceled'] == 0]\n",
        "\n",
        "# Group by hotel and market segment, then count the number of confirmed bookings\n",
        "bookings_by_segment = confirmed_bookings.groupby(['hotel', 'market_segment'])['is_canceled'].count().reset_index()\n",
        "bookings_by_segment = bookings_by_segment.rename(columns={'is_canceled': 'Number of Bookings'})\n",
        "\n",
        "# Create the plot\n",
        "plt.figure(figsize=(12, 6))\n",
        "sns.barplot(x='hotel', y='Number of Bookings', hue='market_segment', data=bookings_by_segment)\n",
        "plt.title('Confirmed Bookings by Market Segment and Hotel')\n",
        "plt.xlabel('Hotel Type')\n",
        "plt.ylabel('Number of Confirmed Bookings')\n",
        "plt.xticks(rotation=45)\n",
        "plt.show()"
      ],
      "metadata": {
        "id": "fcGJHAUp9mWK"
      },
      "execution_count": null,
      "outputs": []
    },
    {
      "cell_type": "markdown",
      "source": [
        "##### 1. Why did you pick the specific chart?"
      ],
      "metadata": {
        "id": "t27r6nlMphqO"
      }
    },
    {
      "cell_type": "markdown",
      "source": [
        "It is easy to use and easy to understand,easy to plot information.\n"
      ],
      "metadata": {
        "id": "iv6ro40sphqO"
      }
    },
    {
      "cell_type": "markdown",
      "source": [
        "##### 2. What is/are the insight(s) found from the chart?"
      ],
      "metadata": {
        "id": "r2jJGEOYphqO"
      }
    },
    {
      "cell_type": "markdown",
      "source": [
        "There is a market segment analysis and  graph of distribution of market segment and  number of confirmed bookings by market segment and hotel with graph."
      ],
      "metadata": {
        "id": "Po6ZPi4hphqO"
      }
    },
    {
      "cell_type": "markdown",
      "source": [
        "##### 3. Will the gained insights help creating a positive business impact?\n",
        "Are there any insights that lead to negative growth? Justify with specific reason."
      ],
      "metadata": {
        "id": "b0JNsNcRphqO"
      }
    },
    {
      "cell_type": "markdown",
      "source": [
        "No, there is no negative growth,there is confirmed booking by market segment and hotel ,which is postive growth og booking."
      ],
      "metadata": {
        "id": "xvSq8iUTphqO"
      }
    },
    {
      "cell_type": "markdown",
      "source": [
        "#### Chart - 8"
      ],
      "metadata": {
        "id": "BZR9WyysphqO"
      }
    },
    {
      "cell_type": "code",
      "source": [
        "# Chart - 8 visualization code"
      ],
      "metadata": {
        "id": "TdPTWpAVphqO"
      },
      "execution_count": null,
      "outputs": []
    },
    {
      "cell_type": "code",
      "source": [
        "# display room price per night and person over the year grouped by hotel\n",
        "\n",
        "# Handle cases where the total number of guests is zero to avoid division by zero.\n",
        "df['guests'] = df['adults'] + df['children'] + df['babies']\n",
        "df['price_per_person'] = df['adr'] / df['guests']\n",
        "df['price_per_person'] = df['price_per_person'].replace([np.inf, -np.inf], np.nan).fillna(0)\n",
        "\n",
        "# Convert arrival_date_month to categorical with a specific order to ensure correct month order\n",
        "month_order = ['January', 'February', 'March', 'April', 'May', 'June', 'July', 'August', 'September', 'October', 'November', 'December']\n",
        "df['arrival_date_month'] = pd.Categorical(df['arrival_date_month'], categories=month_order, ordered=True)\n",
        "\n",
        "# Create the line plot\n",
        "plt.figure(figsize=(15, 8))\n",
        "sns.lineplot(x='arrival_date_month', y='price_per_person', hue='hotel', data=df)\n",
        "plt.xlabel('Month')\n",
        "plt.ylabel('Price per Person')\n",
        "plt.title('Room Price per Night per Person Over the Year (Grouped by Hotel)')\n",
        "plt.xticks(rotation=45)\n",
        "plt.show()"
      ],
      "metadata": {
        "id": "LBzt7j459_9G"
      },
      "execution_count": null,
      "outputs": []
    },
    {
      "cell_type": "code",
      "source": [
        "# prompt: Visualising room price per night and person over the year  grouped by hotel and booking status\n",
        "\n",
        "# Assuming 'df' is your DataFrame and the necessary columns exist.\n",
        "import matplotlib.pyplot as plt\n",
        "import seaborn as sns\n",
        "\n",
        "# Handle cases where the total number of guests is zero to avoid division by zero.\n",
        "df['guests'] = df['adults'] + df['children'] + df['babies']\n",
        "df['price_per_person'] = df['adr'] / df['guests']\n",
        "df['price_per_person'] = df['price_per_person'].replace([np.inf, -np.inf], np.nan).fillna(0)\n",
        "\n",
        "# Convert arrival_date_month to categorical with a specific order to ensure correct month order\n",
        "month_order = ['January', 'February', 'March', 'April', 'May', 'June', 'July', 'August', 'September', 'October', 'November', 'December']\n",
        "df['arrival_date_month'] = pd.Categorical(df['arrival_date_month'], categories=month_order, ordered=True)\n",
        "\n",
        "# Create the line plot\n",
        "plt.figure(figsize=(15, 8))\n",
        "sns.lineplot(x='arrival_date_month', y='price_per_person', hue='hotel', style='is_canceled', data=df)\n",
        "plt.xlabel('Month')\n",
        "plt.ylabel('Price per Person')\n",
        "plt.title('Room Price per Night per Person Over the Year (Grouped by Hotel and Booking Status)')\n",
        "plt.xticks(rotation=45)\n",
        "plt.show()"
      ],
      "metadata": {
        "id": "wD0w6hbkA4lH"
      },
      "execution_count": null,
      "outputs": []
    },
    {
      "cell_type": "markdown",
      "source": [
        "##### 1. Why did you pick the specific chart?"
      ],
      "metadata": {
        "id": "jj7wYXLtphqO"
      }
    },
    {
      "cell_type": "markdown",
      "source": [
        "Answer Here."
      ],
      "metadata": {
        "id": "Ob8u6rCTphqO"
      }
    },
    {
      "cell_type": "markdown",
      "source": [
        "##### 2. What is/are the insight(s) found from the chart?"
      ],
      "metadata": {
        "id": "eZrbJ2SmphqO"
      }
    },
    {
      "cell_type": "markdown",
      "source": [
        "Tere is information about room price per night and person over the year grouped by hotel also with graph,room price per night and person over the year  grouped by hotel and booking status with graph representation by using line plot."
      ],
      "metadata": {
        "id": "mZtgC_hjphqO"
      }
    },
    {
      "cell_type": "markdown",
      "source": [
        "##### 3. Will the gained insights help creating a positive business impact?\n",
        "Are there any insights that lead to negative growth? Justify with specific reason."
      ],
      "metadata": {
        "id": "rFu4xreNphqO"
      }
    },
    {
      "cell_type": "markdown",
      "source": [
        "No,tere is no negative growth beacause the rate of hotel booking is garter than cancellation as per price of per person over the year."
      ],
      "metadata": {
        "id": "ey_0qi68phqO"
      }
    },
    {
      "cell_type": "markdown",
      "source": [
        "#### Chart - 9"
      ],
      "metadata": {
        "id": "YJ55k-q6phqO"
      }
    },
    {
      "cell_type": "code",
      "source": [
        "# Chart - 9 visualization code"
      ],
      "metadata": {
        "id": "B2aS4O1ophqO"
      },
      "execution_count": null,
      "outputs": []
    },
    {
      "cell_type": "code",
      "source": [
        "# prompt: display What is the busiest month for the hotel?\n",
        "\n",
        "import pandas as pd\n",
        "import matplotlib.pyplot as plt\n",
        "import seaborn as sns\n",
        "\n",
        "try:\n",
        "    # Load the data\n",
        "    df =pd.read_excel('/content/drive/MyDrive/Hotel Bookings1.xlsx')\n",
        "    #\n",
        "    # Calculate the busiest month\n",
        "    busiest_month = df['arrival_date_month'].value_counts().index[0]\n",
        "    print(f\"The busiest month for the hotel is: {busiest_month}\")\n",
        "\n",
        "    # Visualize the busiest month using a countplot\n",
        "    plt.figure(figsize=(12, 6))\n",
        "    sns.countplot(x='arrival_date_month', data=df, order=df['arrival_date_month'].value_counts().index)\n",
        "    plt.title('Number of Bookings per Month')\n",
        "    plt.xlabel('Arrival Month')\n",
        "    plt.ylabel('Number of Bookings')\n",
        "    plt.xticks(rotation=45)\n",
        "    plt.show()\n",
        "\n",
        "except FileNotFoundError:\n",
        "    print(\"Error: File not found at the specified path.\")\n",
        "except KeyError:\n",
        "    print(\"Error: 'arrival_date_month' column not found in the DataFrame.\")\n",
        "except Exception as e:\n",
        "    print(f\"An unexpected error occurred: {e}\")"
      ],
      "metadata": {
        "id": "vR8vDM3xZtph"
      },
      "execution_count": null,
      "outputs": []
    },
    {
      "cell_type": "code",
      "source": [
        "# display Normalize the data to calculate average monthly booking\n",
        "\n",
        "\n",
        "import pandas as pd\n",
        "import numpy as np\n",
        "\n",
        "# Load the data\n",
        "try:\n",
        "    df = pd.read_excel('/content/drive/MyDrive/Hotel Bookings1.xlsx')\n",
        "except FileNotFoundError:\n",
        "    print(\"Error: File not found at the specified path.\")\n",
        "    exit()  # Exit the script if the file is not found\n",
        "except Exception as e:\n",
        "    print(f\"An unexpected error occurred while loading the file: {e}\")\n",
        "    exit()\n",
        "\n",
        "\n",
        "# Normalize the 'adr' (average daily rate) column\n",
        "# Assuming 'adr' represents the daily booking amount\n",
        "# and we want to normalize it to calculate the average monthly booking\n",
        "\n",
        "# Check for null values and replace them with 0\n",
        "df['adr'] = df['adr'].fillna(0)\n",
        "\n",
        "# Normalize the 'adr' column\n",
        "# This normalizes the data between 0 and 1. You might want to adjust the normalization method if needed.\n",
        "# For example, using MinMaxScaler from scikit-learn would allow you to define a specific range (if not 0 to 1)\n",
        "df['normalized_adr'] = (df['adr'] - df['adr'].min()) / (df['adr'].max() - df['adr'].min())\n",
        "\n",
        "# Calculate the average monthly booking\n",
        "# Group the data by arrival_date_month\n",
        "monthly_bookings = df.groupby('arrival_date_month')['normalized_adr'].mean()\n",
        "\n",
        "# Convert monthly_bookings to DataFrame\n",
        "monthly_bookings = monthly_bookings.reset_index()\n",
        "monthly_bookings"
      ],
      "metadata": {
        "id": "nd1lyRIpDlp9"
      },
      "execution_count": null,
      "outputs": []
    },
    {
      "cell_type": "markdown",
      "source": [
        "##### 1. Why did you pick the specific chart?"
      ],
      "metadata": {
        "id": "gCFgpxoyphqP"
      }
    },
    {
      "cell_type": "markdown",
      "source": [
        "Answer Here."
      ],
      "metadata": {
        "id": "TVxDimi2phqP"
      }
    },
    {
      "cell_type": "markdown",
      "source": [
        "##### 2. What is/are the insight(s) found from the chart?"
      ],
      "metadata": {
        "id": "OVtJsKN_phqQ"
      }
    },
    {
      "cell_type": "markdown",
      "source": [
        "Answer Here"
      ],
      "metadata": {
        "id": "ngGi97qjphqQ"
      }
    },
    {
      "cell_type": "markdown",
      "source": [
        "##### 3. Will the gained insights help creating a positive business impact?\n",
        "Are there any insights that lead to negative growth? Justify with specific reason."
      ],
      "metadata": {
        "id": "lssrdh5qphqQ"
      }
    },
    {
      "cell_type": "markdown",
      "source": [
        "Answer Here"
      ],
      "metadata": {
        "id": "tBpY5ekJphqQ"
      }
    },
    {
      "cell_type": "markdown",
      "source": [
        "#### Chart - 10"
      ],
      "metadata": {
        "id": "U2RJ9gkRphqQ"
      }
    },
    {
      "cell_type": "code",
      "source": [
        "# Chart - 10 visualization code"
      ],
      "metadata": {
        "id": "GM7a4YP4phqQ"
      },
      "execution_count": null,
      "outputs": []
    },
    {
      "cell_type": "code",
      "source": [
        "# display Impact analysis of stay duration on hotel bookings cancellation rate\n",
        "try:\n",
        "    #Impact analysis of stay duration on hotel bookings cancellation rate\n",
        "    plt.figure(figsize=(10,6))\n",
        "    sns.barplot(x='stays_in_weekend_nights',y='is_canceled',data=df,estimator=np.mean,ci=None)\n",
        "    plt.title('Impact of stay duration on hotel bookings cancellation rate')\n",
        "    plt.xlabel('Stay Duration (Week Nights)')\n",
        "    plt.ylabel('Cancellation Rate')\n",
        "    plt.show()\n",
        "\n",
        "    # Group data by 'is_canceled' and calculate the mean 'stays_in_weekend_nights'\n",
        "    cancellation_impact = df.groupby('is_canceled')['stays_in_weekend_nights'].mean()\n",
        "    print(cancellation_impact)\n",
        "except FileNotFoundError:\n",
        "    print(\"Error: File not found at the specified path.\")\n",
        "except KeyError as e:\n",
        "    print(f\"Error: Column '{e}' not found in the DataFrame.\")\n",
        "except Exception as e:\n",
        "    print(f\"An unexpected error occurred: {e}\")"
      ],
      "metadata": {
        "id": "-d7UDsyOER3K"
      },
      "execution_count": null,
      "outputs": []
    },
    {
      "cell_type": "code",
      "source": [
        "# display make a clean data\n",
        "try:\n",
        "    # Display first 5 rows of the DataFrame\n",
        "    display(df.head())\n",
        "\n",
        "except FileNotFoundError:\n",
        "    print(\"Error: File not found at the specified path.\")\n",
        "    # Handle the error appropriately, e.g., exit the script or use a default DataFrame\n",
        "    # exit()  # or df = pd.DataFrame()\n",
        "    df = pd.DataFrame() # Create an empty DataFrame to prevent further errors\n",
        "\n",
        "except Exception as e:\n",
        "    print(f\"An unexpected error occurred while reading the file: {e}\")\n",
        "    # exit() # or df = pd.DataFrame()\n",
        "    df = pd.DataFrame() # Create an empty DataFrame to prevent further errors\n",
        "\n",
        "# Now you can proceed with data cleaning, visualization, etc., using the 'df' DataFrame\n",
        "# Example: check for null values\n",
        "if not df.empty:\n",
        "    print(df.isnull().sum())"
      ],
      "metadata": {
        "id": "N7rLnAO0GwEQ"
      },
      "execution_count": null,
      "outputs": []
    },
    {
      "cell_type": "markdown",
      "source": [
        "##### 1. Why did you pick the specific chart?"
      ],
      "metadata": {
        "id": "1M8mcRywphqQ"
      }
    },
    {
      "cell_type": "markdown",
      "source": [
        "Answer Here."
      ],
      "metadata": {
        "id": "8agQvks0phqQ"
      }
    },
    {
      "cell_type": "markdown",
      "source": [
        "##### 2. What is/are the insight(s) found from the chart?"
      ],
      "metadata": {
        "id": "tgIPom80phqQ"
      }
    },
    {
      "cell_type": "markdown",
      "source": [
        "Answer Here"
      ],
      "metadata": {
        "id": "Qp13pnNzphqQ"
      }
    },
    {
      "cell_type": "markdown",
      "source": [
        "##### 3. Will the gained insights help creating a positive business impact?\n",
        "Are there any insights that lead to negative growth? Justify with specific reason."
      ],
      "metadata": {
        "id": "JMzcOPDDphqR"
      }
    },
    {
      "cell_type": "markdown",
      "source": [
        "Answer Here"
      ],
      "metadata": {
        "id": "R4Ka1PC2phqR"
      }
    },
    {
      "cell_type": "markdown",
      "source": [
        "#### Chart - 11"
      ],
      "metadata": {
        "id": "x-EpHcCOp1ci"
      }
    },
    {
      "cell_type": "code",
      "source": [
        "# Chart - 11 visualization code"
      ],
      "metadata": {
        "id": "mAQTIvtqp1cj"
      },
      "execution_count": null,
      "outputs": []
    },
    {
      "cell_type": "code",
      "source": [
        "# display Visualising total nights and cancellation rate\n",
        "\n",
        "try:\n",
        "\n",
        "    # Visualizing total nights\n",
        "    plt.figure(figsize=(10, 6))\n",
        "    sns.histplot(df['stays_in_weekend_nights'] + df['stays_in_week_nights'], kde=True)\n",
        "    plt.title('Total Nights Stayed Distribution')\n",
        "    plt.xlabel('Total Nights')\n",
        "    plt.ylabel('Frequency')\n",
        "    plt.show()\n",
        "\n",
        "    # Visualizing cancellation rate\n",
        "    plt.figure(figsize=(8, 6))\n",
        "    sns.countplot(x='is_canceled', data=df)\n",
        "    plt.title('Booking Cancellation Rate')\n",
        "    plt.xlabel('Cancelled (1) / Not Cancelled (0)')\n",
        "    plt.ylabel('Number of Bookings')\n",
        "    plt.show()\n",
        "\n",
        "except FileNotFoundError:\n",
        "    print(\"Error: File not found at the specified path.\")\n",
        "except KeyError as e:\n",
        "    print(f\"Error: Column '{e}' not found in the DataFrame.\")\n",
        "except Exception as e:\n",
        "    print(f\"An unexpected error occurred: {e}\")"
      ],
      "metadata": {
        "id": "_80kMgdvJrfg"
      },
      "execution_count": null,
      "outputs": []
    },
    {
      "cell_type": "code",
      "source": [
        "\n",
        "# Assuming 'df' is your DataFrame and the necessary columns exist.\n",
        "try:\n",
        "    # Display first 5 rows of the DataFrame\n",
        "    display(df.head())\n",
        "\n",
        "except FileNotFoundError:\n",
        "    print(\"Error: File not found at the specified path.\")\n",
        "    # Handle the error appropriately, e.g., exit the script or use a default DataFrame\n",
        "    # exit()  # or df = pd.DataFrame()\n",
        "    df = pd.DataFrame() # Create an empty DataFrame to prevent further errors\n",
        "\n",
        "except Exception as e:\n",
        "    print(f\"An unexpected error occurred while reading the file: {e}\")\n",
        "    # exit() # or df = pd.DataFrame()\n",
        "    df = pd.DataFrame() # Create an empty DataFrame to prevent further errors\n",
        "\n",
        "# Now you can proceed with data cleaning, visualization, etc., using the 'df' DataFrame\n",
        "# Example: check for null values\n",
        "if not df.empty:\n",
        "    print(df.isnull().sum())"
      ],
      "metadata": {
        "id": "UlO2qHFHLTqj"
      },
      "execution_count": null,
      "outputs": []
    },
    {
      "cell_type": "markdown",
      "source": [
        "##### 1. Why did you pick the specific chart?"
      ],
      "metadata": {
        "id": "X_VqEhTip1ck"
      }
    },
    {
      "cell_type": "markdown",
      "source": [
        "Answer Here."
      ],
      "metadata": {
        "id": "-vsMzt_np1ck"
      }
    },
    {
      "cell_type": "markdown",
      "source": [
        "##### 2. What is/are the insight(s) found from the chart?"
      ],
      "metadata": {
        "id": "8zGJKyg5p1ck"
      }
    },
    {
      "cell_type": "markdown",
      "source": [
        "Answer Here"
      ],
      "metadata": {
        "id": "ZYdMsrqVp1ck"
      }
    },
    {
      "cell_type": "markdown",
      "source": [
        "##### 3. Will the gained insights help creating a positive business impact?\n",
        "Are there any insights that lead to negative growth? Justify with specific reason."
      ],
      "metadata": {
        "id": "PVzmfK_Ep1ck"
      }
    },
    {
      "cell_type": "markdown",
      "source": [
        "Answer Here"
      ],
      "metadata": {
        "id": "druuKYZpp1ck"
      }
    },
    {
      "cell_type": "markdown",
      "source": [
        "#### Chart - 12"
      ],
      "metadata": {
        "id": "n3dbpmDWp1ck"
      }
    },
    {
      "cell_type": "code",
      "source": [
        "# Chart - 12 visualization code"
      ],
      "metadata": {
        "id": "bwevp1tKp1ck"
      },
      "execution_count": null,
      "outputs": []
    },
    {
      "cell_type": "code",
      "source": [
        "# prompt: display Impact analysis of lead time on hotel bookings cancellation  rate grouped by hotel\n",
        "try:\n",
        "    # Group data by hotel and lead time, then calculate the cancellation rate\n",
        "    lead_time_impact = df.groupby(['hotel', 'lead_time'])['is_canceled'].mean().reset_index()\n",
        "    lead_time_impact = lead_time_impact.rename(columns={'is_canceled': 'Cancellation Rate'})\n",
        "\n",
        "    # Create the plot\n",
        "    plt.figure(figsize=(12, 6))\n",
        "    sns.lineplot(x='lead_time', y='Cancellation Rate', hue='hotel', data=lead_time_impact)\n",
        "    plt.title('Impact of Lead Time on Hotel Booking Cancellation Rate')\n",
        "    plt.xlabel('Lead Time (days)')\n",
        "    plt.ylabel('Cancellation Rate')\n",
        "    plt.show()\n",
        "\n",
        "except KeyError as e:\n",
        "    print(f\"Error: Column '{e}' not found in the DataFrame.\")\n",
        "except Exception as e:\n",
        "    print(f\"An unexpected error occurred: {e}\")"
      ],
      "metadata": {
        "id": "a-4SfjswLx-z"
      },
      "execution_count": null,
      "outputs": []
    },
    {
      "cell_type": "code",
      "source": [
        "# create copy of clean dataset\n",
        "\n",
        "try:\n",
        "    # Display first 5 rows of the DataFrame\n",
        "    display(df.head())\n",
        "\n",
        "except FileNotFoundError:\n",
        "    print(\"Error: File not found at the specified path.\")\n",
        "    # Handle the error appropriately, e.g., exit the script or use a default DataFrame\n",
        "    # exit()  # or df = pd.DataFrame()\n",
        "    df = pd.DataFrame() # Create an empty DataFrame to prevent further errors\n",
        "\n",
        "except Exception as e:\n",
        "    print(f\"An unexpected error occurred while reading the file: {e}\")\n",
        "    # exit() # or df = pd.DataFrame()\n",
        "    df = pd.DataFrame() # Create an empty DataFrame to prevent further errors\n",
        "\n",
        "# Now you can proceed with data cleaning, visualization, etc., using the 'df' DataFrame\n",
        "# Example: check for null values\n",
        "if not df.empty:\n",
        "    print(df.isnull().sum())"
      ],
      "metadata": {
        "id": "yOLkXJeaKpRQ"
      },
      "execution_count": null,
      "outputs": []
    },
    {
      "cell_type": "markdown",
      "source": [
        "##### 1. Why did you pick the specific chart?"
      ],
      "metadata": {
        "id": "ylSl6qgtp1ck"
      }
    },
    {
      "cell_type": "markdown",
      "source": [
        "Answer Here."
      ],
      "metadata": {
        "id": "m2xqNkiQp1ck"
      }
    },
    {
      "cell_type": "markdown",
      "source": [
        "##### 2. What is/are the insight(s) found from the chart?"
      ],
      "metadata": {
        "id": "ZWILFDl5p1ck"
      }
    },
    {
      "cell_type": "markdown",
      "source": [
        "Answer Here"
      ],
      "metadata": {
        "id": "x-lUsV2mp1ck"
      }
    },
    {
      "cell_type": "markdown",
      "source": [
        "##### 3. Will the gained insights help creating a positive business impact?\n",
        "Are there any insights that lead to negative growth? Justify with specific reason."
      ],
      "metadata": {
        "id": "M7G43BXep1ck"
      }
    },
    {
      "cell_type": "markdown",
      "source": [
        "Answer Here"
      ],
      "metadata": {
        "id": "5wwDJXsLp1cl"
      }
    },
    {
      "cell_type": "markdown",
      "source": [
        "#### Chart - 13"
      ],
      "metadata": {
        "id": "Ag9LCva-p1cl"
      }
    },
    {
      "cell_type": "code",
      "source": [
        "# Chart - 13 visualization code"
      ],
      "metadata": {
        "id": "EUfxeq9-p1cl"
      },
      "execution_count": null,
      "outputs": []
    },
    {
      "cell_type": "code",
      "source": [
        "# display all anlizing data from above analization\n",
        "\n",
        "# Assuming 'df' is your DataFrame and the necessary columns exist.\n",
        "try:\n",
        "    # Display first 5 rows of the DataFrame\n",
        "    display(df.head())\n",
        "\n",
        "except FileNotFoundError:\n",
        "    print(\"Error: File not found at the specified path.\")\n",
        "    # Handle the error appropriately, e.g., exit the script or use a default DataFrame\n",
        "    # exit()  # or df = pd.DataFrame()\n",
        "    df = pd.DataFrame() # Create an empty DataFrame to prevent further errors\n",
        "\n",
        "except Exception as e:\n",
        "    print(f\"An unexpected error occurred while reading the file: {e}\")\n",
        "    # exit() # or df = pd.DataFrame()\n",
        "    df = pd.DataFrame() # Create an empty DataFrame to prevent further errors\n",
        "\n",
        "# Now you can proceed with data cleaning, visualization, etc., using the 'df' DataFrame\n",
        "# Example: check for null values\n",
        "if not df.empty:\n",
        "    print(df.isnull().sum())\n",
        "    print(country_counts)\n",
        "    print(grouped_data)\n",
        "    print(grouped_data_subset)\n",
        "    print(market_segment_analysis)\n",
        "    print(bookings_by_segment)\n",
        "    print(cancellation_impact)\n",
        "\n",
        "lead_time_impact"
      ],
      "metadata": {
        "id": "RULhP_0LYGy2"
      },
      "execution_count": null,
      "outputs": []
    },
    {
      "cell_type": "markdown",
      "source": [
        "##### 1. Why did you pick the specific chart?"
      ],
      "metadata": {
        "id": "E6MkPsBcp1cl"
      }
    },
    {
      "cell_type": "markdown",
      "source": [
        "Answer Here."
      ],
      "metadata": {
        "id": "V22bRsFWp1cl"
      }
    },
    {
      "cell_type": "markdown",
      "source": [
        "##### 2. What is/are the insight(s) found from the chart?"
      ],
      "metadata": {
        "id": "2cELzS2fp1cl"
      }
    },
    {
      "cell_type": "markdown",
      "source": [
        "Answer Here"
      ],
      "metadata": {
        "id": "ozQPc2_Ip1cl"
      }
    },
    {
      "cell_type": "markdown",
      "source": [
        "##### 3. Will the gained insights help creating a positive business impact?\n",
        "Are there any insights that lead to negative growth? Justify with specific reason."
      ],
      "metadata": {
        "id": "3MPXvC8up1cl"
      }
    },
    {
      "cell_type": "markdown",
      "source": [
        "Answer Here"
      ],
      "metadata": {
        "id": "GL8l1tdLp1cl"
      }
    },
    {
      "cell_type": "markdown",
      "source": [
        "#### Chart - 14 - Correlation Heatmap"
      ],
      "metadata": {
        "id": "NC_X3p0fY2L0"
      }
    },
    {
      "cell_type": "code",
      "source": [
        "# Correlation Heatmap visualization code"
      ],
      "metadata": {
        "id": "xyC9zolEZNRQ"
      },
      "execution_count": null,
      "outputs": []
    },
    {
      "cell_type": "code",
      "source": [
        "# prompt: display correlation heatmap\n",
        "\n",
        "import matplotlib.pyplot as plt\n",
        "import seaborn as sns\n",
        "\n",
        "try:\n",
        "    # Assuming 'df' is your DataFrame\n",
        "    # Select numerical columns for correlation analysis\n",
        "    numerical_cols = df.select_dtypes(include=['number'])\n",
        "\n",
        "    # Calculate the correlation matrix\n",
        "    correlation_matrix = numerical_cols.corr()\n",
        "\n",
        "    # Create the heatmap\n",
        "    plt.figure(figsize=(12, 10))\n",
        "    sns.heatmap(correlation_matrix, annot=True, cmap='coolwarm', fmt=\".2f\")\n",
        "    plt.title('Correlation Heatmap of Numerical Features')\n",
        "    plt.show()\n",
        "\n",
        "except KeyError as e:\n",
        "    print(f\"Error: Column '{e}' not found in the DataFrame.\")\n",
        "except Exception as e:\n",
        "    print(f\"An unexpected error occurred: {e}\")"
      ],
      "metadata": {
        "id": "huiF1AHbcuCJ"
      },
      "execution_count": null,
      "outputs": []
    },
    {
      "cell_type": "markdown",
      "source": [
        "##### 1. Why did you pick the specific chart?"
      ],
      "metadata": {
        "id": "UV0SzAkaZNRQ"
      }
    },
    {
      "cell_type": "markdown",
      "source": [
        "Answer Here."
      ],
      "metadata": {
        "id": "DVPuT8LYZNRQ"
      }
    },
    {
      "cell_type": "markdown",
      "source": [
        "##### 2. What is/are the insight(s) found from the chart?"
      ],
      "metadata": {
        "id": "YPEH6qLeZNRQ"
      }
    },
    {
      "cell_type": "markdown",
      "source": [
        "Answer Here"
      ],
      "metadata": {
        "id": "bfSqtnDqZNRR"
      }
    },
    {
      "cell_type": "markdown",
      "source": [
        "#### Chart - 15 - Pair Plot"
      ],
      "metadata": {
        "id": "q29F0dvdveiT"
      }
    },
    {
      "cell_type": "code",
      "source": [
        "# Pair Plot visualization\n",
        "import pandas as pd\n",
        "import seaborn as sns\n",
        "df = pd.read_excel('/content/drive/MyDrive/Hotel Bookings1.xlsx')\n",
        "sns.pairplot(df)"
      ],
      "metadata": {
        "id": "o58-TEIhveiU"
      },
      "execution_count": null,
      "outputs": []
    },
    {
      "cell_type": "markdown",
      "source": [
        "##### 1. Why did you pick the specific chart?"
      ],
      "metadata": {
        "id": "EXh0U9oCveiU"
      }
    },
    {
      "cell_type": "markdown",
      "source": [
        "Answer Here."
      ],
      "metadata": {
        "id": "eMmPjTByveiU"
      }
    },
    {
      "cell_type": "markdown",
      "source": [
        "##### 2. What is/are the insight(s) found from the chart?"
      ],
      "metadata": {
        "id": "22aHeOlLveiV"
      }
    },
    {
      "cell_type": "markdown",
      "source": [
        "Answer Here"
      ],
      "metadata": {
        "id": "uPQ8RGwHveiV"
      }
    },
    {
      "cell_type": "markdown",
      "source": [
        "## **5. Solution to Business Objective**"
      ],
      "metadata": {
        "id": "JcMwzZxoAimU"
      }
    },
    {
      "cell_type": "markdown",
      "source": [
        "#### What do you suggest the client to achieve Business Objective ?\n",
        "Explain Briefly."
      ],
      "metadata": {
        "id": "8G2x9gOozGDZ"
      }
    },
    {
      "cell_type": "markdown",
      "source": [
        "1. Increase Occupancy Rates (Fill More Rooms)\n",
        "\n",
        "Recommendations:\n",
        "\n",
        "Dynamic Pricing: Adjust room rates based on demand to attract guests during low seasons.\n",
        "\n",
        "Target Corporate Clients: Offer special rates and long-term packages for business travelers.\n",
        "\n",
        "Collaborate with Event Organizers: Partner with nearby venues or event companies to offer bundled packages (stay + event access).\n",
        "\n",
        "Promote Seasonal Packages: Create attractive offers for holidays, festivals, and weekends to appeal to both locals and tourists.\n",
        "\n",
        "\n",
        "2. Boost Revenue Per Available Room (RevPAR)\n",
        "\n",
        "Recommendations:\n",
        "\n",
        "Upsell Room Upgrades and Add-ons: Encourage guests to book premium rooms or include meals, airport transfers, or spa treatments.\n",
        "\n",
        "Yield Management: Use software to dynamically adjust prices to balance occupancy and revenue.\n",
        "\n",
        "Optimize OTA Channels: Track performance of online travel agents (OTAs) and focus on the most profitable platforms.\n",
        "\n",
        "3. Improve Guest Satisfaction and Loyalty\n",
        "\n",
        "Recommendations:\n",
        "\n",
        "Use Feedback Proactively: Collect reviews and address complaints immediately to prevent reputation loss.\n",
        "\n",
        "Personalized Guest Experience: Provide custom services like fast Wi-Fi for business guests and leisure activities for families.\n",
        "\n",
        "Loyalty Programs: Launch reward programs offering points or discounts for repeat customers to encourage loyalty.\n",
        "\n",
        "Train Staff for Superior Service: Ensure staff provides quick, friendly, and efficient service to enhance the guest experience.\n",
        "\n",
        "4. Reduce Costs and Improve Operational Efficiency\n",
        "\n",
        "Recommendations:\n",
        "\n",
        "Forecast Demand for Better Planning: Use historical data to plan staffing levels, saving money during low-demand periods.\n",
        "\n",
        "Optimize Inventory Management: Track consumables (like toiletries and food"
      ],
      "metadata": {
        "id": "pASKb0qOza21"
      }
    },
    {
      "cell_type": "markdown",
      "source": [
        "## **conclusion**"
      ],
      "metadata": {
        "id": "gCX9965dhzqZ"
      }
    },
    {
      "cell_type": "markdown",
      "source": [
        "1. Increase Occupancy: Utilize dynamic pricing, corporate tie-ups, and seasonal packages to fill more rooms throughout the year.\n",
        "\n",
        "\n",
        "2. Boost Revenue: Maximize RevPAR by upselling premium services and managing prices based on demand.\n",
        "\n",
        "\n",
        "3. Enhance Guest Satisfaction: Improve service quality through personalized experiences, loyalty programs, and proactive feedback management.\n",
        "\n",
        "\n",
        "4. Optimize Operations: Forecast demand to manage staffing and inventory efficiently, reducing unnecessary costs.\n",
        "\n",
        "\n",
        "5. Increase Direct Bookings: Reduce dependence on OTAs by offering direct booking incentives and improving the online experience.\n",
        "\n",
        "\n",
        "\n",
        "By combining these solutions with regular monitoring through data visualization, the hotel can make informed decisions, increase profitability, strengthen guest relationships, and maintain a competitive edge in the market. Success will require continuous refinement  of strategies based on performance data and market trends."
      ],
      "metadata": {
        "id": "Fjb1IsQkh3yE"
      }
    },
    {
      "cell_type": "markdown",
      "source": [
        "### ***Hurrah! You have successfully completed your EDA Capstone Project !!!***"
      ],
      "metadata": {
        "id": "gIfDvo9L0UH2"
      }
    }
  ]
}